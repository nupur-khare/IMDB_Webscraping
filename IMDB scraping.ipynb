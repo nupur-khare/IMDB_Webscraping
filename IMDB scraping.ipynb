{
 "cells": [
  {
   "cell_type": "code",
   "execution_count": 1,
   "id": "af0d08eb-1fbb-4abb-acb2-aa715ff40ff9",
   "metadata": {},
   "outputs": [],
   "source": [
    "import pandas as pd\n",
    "import numpy as np\n",
    "import requests\n",
    "from bs4 import BeautifulSoup\n",
    "from time import sleep\n",
    "from random import randint"
   ]
  },
  {
   "cell_type": "code",
   "execution_count": 2,
   "id": "cbd2b26e-e549-4a6b-95e4-c5335364d867",
   "metadata": {},
   "outputs": [],
   "source": [
    "Movie = []\n",
    "Year = []\n",
    "Rating=[]\n",
    "Score =[]"
   ]
  },
  {
   "cell_type": "code",
   "execution_count": 3,
   "id": "c0cffa44-c298-4d23-86ef-a434c72f6eb2",
   "metadata": {},
   "outputs": [],
   "source": [
    "pages = np.arange(1,1000,100)"
   ]
  },
  {
   "cell_type": "code",
   "execution_count": 4,
   "id": "60e671b1-794d-45f6-97c5-9cffc3bc9330",
   "metadata": {},
   "outputs": [],
   "source": [
    "for i in pages:\n",
    "    i = requests.get(\"https://www.imdb.com/search/title/?groups=top_1000&sort=user_rating,desc&count=100&start=\"+str(i)+\"&ref_=adv_nxt\")\n",
    "    soup = BeautifulSoup(i.text, 'html.parser')\n",
    "    data = soup.findAll('div', attrs = {'class': 'lister-item mode-advanced'})\n",
    "    sleep(randint(2,8))\n",
    "    for j in data:\n",
    "        movie = j.h3.a.text\n",
    "        Movie.append(movie)\n",
    "        year = j.h3.find('span', class_ = \"lister-item-year text-muted unbold\").text\n",
    "        Year.append(year)\n",
    "        rating = j.find('div', class_ = \"inline-block ratings-imdb-rating\").text.replace('\\n', '')\n",
    "        Rating.append(rating)\n",
    "        score = j.find('span', class_ = \"metascore\").text if j.find('span', class_ = \"metascore\") else \"--\"\n",
    "        Score.append(score)      "
   ]
  },
  {
   "cell_type": "code",
   "execution_count": 5,
   "id": "8c9b2087-2824-4e6f-b512-a0543424325a",
   "metadata": {},
   "outputs": [],
   "source": [
    "df = pd.DataFrame({ \"Movie Name\": Movie, \"Year of Release\" : Year,\"Movie Rating\": Rating, \"Meatscore of movie\": Score  })"
   ]
  },
  {
   "cell_type": "code",
   "execution_count": 6,
   "id": "dd9efd88-5910-4984-b189-a8f2905e48c6",
   "metadata": {},
   "outputs": [],
   "source": [
    "df.to_csv(\"IMDb movies.csv\", index=False)"
   ]
  },
  {
   "cell_type": "code",
   "execution_count": 7,
   "id": "8e56c6a1-2336-46d3-b6da-c646ac0e21d9",
   "metadata": {},
   "outputs": [
    {
     "data": {
      "text/html": [
       "<div>\n",
       "<style scoped>\n",
       "    .dataframe tbody tr th:only-of-type {\n",
       "        vertical-align: middle;\n",
       "    }\n",
       "\n",
       "    .dataframe tbody tr th {\n",
       "        vertical-align: top;\n",
       "    }\n",
       "\n",
       "    .dataframe thead th {\n",
       "        text-align: right;\n",
       "    }\n",
       "</style>\n",
       "<table border=\"1\" class=\"dataframe\">\n",
       "  <thead>\n",
       "    <tr style=\"text-align: right;\">\n",
       "      <th></th>\n",
       "      <th>Movie Name</th>\n",
       "      <th>Year of Release</th>\n",
       "      <th>Movie Rating</th>\n",
       "      <th>Meatscore of movie</th>\n",
       "    </tr>\n",
       "  </thead>\n",
       "  <tbody>\n",
       "    <tr>\n",
       "      <th>0</th>\n",
       "      <td>The Shawshank Redemption</td>\n",
       "      <td>(1994)</td>\n",
       "      <td>9.3</td>\n",
       "      <td>80</td>\n",
       "    </tr>\n",
       "    <tr>\n",
       "      <th>1</th>\n",
       "      <td>The Godfather</td>\n",
       "      <td>(1972)</td>\n",
       "      <td>9.2</td>\n",
       "      <td>100</td>\n",
       "    </tr>\n",
       "    <tr>\n",
       "      <th>2</th>\n",
       "      <td>Soorarai Pottru</td>\n",
       "      <td>(2020)</td>\n",
       "      <td>9.1</td>\n",
       "      <td>--</td>\n",
       "    </tr>\n",
       "    <tr>\n",
       "      <th>3</th>\n",
       "      <td>The Dark Knight</td>\n",
       "      <td>(2008)</td>\n",
       "      <td>9.0</td>\n",
       "      <td>84</td>\n",
       "    </tr>\n",
       "    <tr>\n",
       "      <th>4</th>\n",
       "      <td>The Godfather: Part II</td>\n",
       "      <td>(1974)</td>\n",
       "      <td>9.0</td>\n",
       "      <td>90</td>\n",
       "    </tr>\n",
       "  </tbody>\n",
       "</table>\n",
       "</div>"
      ],
      "text/plain": [
       "                 Movie Name Year of Release Movie Rating Meatscore of movie\n",
       "0  The Shawshank Redemption          (1994)          9.3         80        \n",
       "1             The Godfather          (1972)          9.2        100        \n",
       "2           Soorarai Pottru          (2020)          9.1                 --\n",
       "3           The Dark Knight          (2008)          9.0         84        \n",
       "4    The Godfather: Part II          (1974)          9.0         90        "
      ]
     },
     "execution_count": 7,
     "metadata": {},
     "output_type": "execute_result"
    }
   ],
   "source": [
    "df.head()"
   ]
  },
  {
   "cell_type": "code",
   "execution_count": 8,
   "id": "3606b032-91c8-4db2-80dc-ccc843a6e7fb",
   "metadata": {},
   "outputs": [
    {
     "data": {
      "text/html": [
       "<div>\n",
       "<style scoped>\n",
       "    .dataframe tbody tr th:only-of-type {\n",
       "        vertical-align: middle;\n",
       "    }\n",
       "\n",
       "    .dataframe tbody tr th {\n",
       "        vertical-align: top;\n",
       "    }\n",
       "\n",
       "    .dataframe thead th {\n",
       "        text-align: right;\n",
       "    }\n",
       "</style>\n",
       "<table border=\"1\" class=\"dataframe\">\n",
       "  <thead>\n",
       "    <tr style=\"text-align: right;\">\n",
       "      <th></th>\n",
       "      <th>Movie Name</th>\n",
       "      <th>Year of Release</th>\n",
       "      <th>Movie Rating</th>\n",
       "      <th>Meatscore of movie</th>\n",
       "    </tr>\n",
       "  </thead>\n",
       "  <tbody>\n",
       "    <tr>\n",
       "      <th>count</th>\n",
       "      <td>1000</td>\n",
       "      <td>1000</td>\n",
       "      <td>1000</td>\n",
       "      <td>1000</td>\n",
       "    </tr>\n",
       "    <tr>\n",
       "      <th>unique</th>\n",
       "      <td>998</td>\n",
       "      <td>118</td>\n",
       "      <td>18</td>\n",
       "      <td>64</td>\n",
       "    </tr>\n",
       "    <tr>\n",
       "      <th>top</th>\n",
       "      <td>Drishyam</td>\n",
       "      <td>(2004)</td>\n",
       "      <td>7.7</td>\n",
       "      <td>--</td>\n",
       "    </tr>\n",
       "    <tr>\n",
       "      <th>freq</th>\n",
       "      <td>2</td>\n",
       "      <td>30</td>\n",
       "      <td>164</td>\n",
       "      <td>161</td>\n",
       "    </tr>\n",
       "  </tbody>\n",
       "</table>\n",
       "</div>"
      ],
      "text/plain": [
       "       Movie Name Year of Release Movie Rating Meatscore of movie\n",
       "count        1000            1000         1000               1000\n",
       "unique        998             118           18                 64\n",
       "top      Drishyam          (2004)          7.7                 --\n",
       "freq            2              30          164                161"
      ]
     },
     "execution_count": 8,
     "metadata": {},
     "output_type": "execute_result"
    }
   ],
   "source": [
    "df.describe()"
   ]
  }
 ],
 "metadata": {
  "kernelspec": {
   "display_name": "Python 3",
   "language": "python",
   "name": "python3"
  },
  "language_info": {
   "codemirror_mode": {
    "name": "ipython",
    "version": 3
   },
   "file_extension": ".py",
   "mimetype": "text/x-python",
   "name": "python",
   "nbconvert_exporter": "python",
   "pygments_lexer": "ipython3",
   "version": "3.8.8"
  }
 },
 "nbformat": 4,
 "nbformat_minor": 5
}
